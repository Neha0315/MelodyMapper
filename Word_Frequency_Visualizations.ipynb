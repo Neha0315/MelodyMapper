{
 "cells": [
  {
   "cell_type": "code",
   "execution_count": 7,
   "id": "cbf44484-b55a-495b-9fd1-7be2249a6941",
   "metadata": {},
   "outputs": [
    {
     "name": "stderr",
     "output_type": "stream",
     "text": [
      "[nltk_data] Downloading package punkt to\n",
      "[nltk_data]     /Users/nikkidcosta/nltk_data...\n",
      "[nltk_data]   Package punkt is already up-to-date!\n",
      "[nltk_data] Downloading package stopwords to\n",
      "[nltk_data]     /Users/nikkidcosta/nltk_data...\n",
      "[nltk_data]   Package stopwords is already up-to-date!\n"
     ]
    },
    {
     "name": "stdout",
     "output_type": "stream",
     "text": [
      "topic\n",
      "feelings      [(good, 3127), (go, 3113), (feel, 3017), (know...\n",
      "music         [(sing, 3823), (home, 3315), (hear, 2943), (so...\n",
      "night/time    [(time, 7807), (night, 4298), (right, 4034), (...\n",
      "obscene       [(like, 13415), (know, 8538), (yeah, 6268), (f...\n",
      "romantic      [(hold, 3489), (kiss, 1742), (sweet, 1741), (l...\n",
      "sadness       [(away, 10976), (heart, 10748), (know, 7452), ...\n",
      "violence      [(come, 4932), (know, 4814), (like, 4442), (he...\n",
      "world/life    [(life, 9226), (live, 7306), (know, 6122), (wo...\n",
      "dtype: object\n"
     ]
    }
   ],
   "source": [
    "import pandas as pd\n",
    "from nltk.tokenize import word_tokenize\n",
    "from nltk.corpus import stopwords\n",
    "from nltk.probability import FreqDist\n",
    "import matplotlib.pyplot as plt\n",
    "\n",
    "import nltk\n",
    "nltk.download('punkt')\n",
    "nltk.download('stopwords')\n",
    "\n",
    "df = pd.read_csv('Data.csv')\n",
    "\n",
    "def get_most_freq_words(group):\n",
    "    lyrics = ' '.join(group['lyrics'].dropna())\n",
    "    words = word_tokenize(lyrics.lower()) \n",
    "    words = [word for word in words if word.isalpha()]  \n",
    "    words = [word for word in words if word not in stopwords.words('english')] \n",
    "    \n",
    "    distribution = FreqDist(words)\n",
    "    return distribution.most_common(7)\n",
    "\n",
    "result = df.groupby('topic').apply(get_most_freq_words)\n",
    "print(result)\n",
    "\n",
    "\n",
    "\n",
    "\n"
   ]
  },
  {
   "cell_type": "code",
   "execution_count": null,
   "id": "b63ece87-c293-4b5c-aec5-35aaa0e6f4ed",
   "metadata": {},
   "outputs": [],
   "source": []
  },
  {
   "cell_type": "code",
   "execution_count": null,
   "id": "2de5ae1e-b7a8-4308-ab24-7c49c104065f",
   "metadata": {},
   "outputs": [],
   "source": []
  },
  {
   "cell_type": "code",
   "execution_count": null,
   "id": "5307a503-f038-492f-a2e2-bc67de582222",
   "metadata": {},
   "outputs": [],
   "source": []
  },
  {
   "cell_type": "code",
   "execution_count": null,
   "id": "52716bf6-4f61-4fe8-90c8-fd313eb0bae4",
   "metadata": {},
   "outputs": [],
   "source": []
  }
 ],
 "metadata": {
  "kernelspec": {
   "display_name": "Python 3 (ipykernel)",
   "language": "python",
   "name": "python3"
  },
  "language_info": {
   "codemirror_mode": {
    "name": "ipython",
    "version": 3
   },
   "file_extension": ".py",
   "mimetype": "text/x-python",
   "name": "python",
   "nbconvert_exporter": "python",
   "pygments_lexer": "ipython3",
   "version": "3.10.6"
  }
 },
 "nbformat": 4,
 "nbformat_minor": 5
}
