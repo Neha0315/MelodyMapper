{
  "nbformat": 4,
  "nbformat_minor": 0,
  "metadata": {
    "colab": {
      "provenance": []
    },
    "kernelspec": {
      "name": "python3",
      "display_name": "Python 3"
    },
    "language_info": {
      "name": "python"
    }
  },
  "cells": [
    {
      "cell_type": "code",
      "execution_count": null,
      "metadata": {
        "id": "oxoNYdXQuWZm"
      },
      "outputs": [],
      "source": [
        "import pandas as pd\n",
        "import matplotlib.pyplot as plt"
      ]
    },
    {
      "cell_type": "code",
      "source": [
        "plt.rcParams[\"figure.figsize\"] = [7.50, 3.50]\n",
        "plt.rcParams[\"figure.autolayout\"] = True"
      ],
      "metadata": {
        "id": "oD2xvNLGux5S"
      },
      "execution_count": null,
      "outputs": []
    },
    {
      "cell_type": "code",
      "source": [
        "#from google.colab import drive\n",
        "#drive.mount('/content/drive')"
      ],
      "metadata": {
        "id": "fEPdBU7W2mY0"
      },
      "execution_count": null,
      "outputs": []
    },
    {
      "cell_type": "code",
      "source": [
        "df = pd.read_csv('/tcc_ceds_music.csv')\n",
        "\n",
        "#for each topic quanitfy how many songs\n",
        "#do histogram\n",
        "\n",
        "print(df.head())"
      ],
      "metadata": {
        "id": "Aa2uX71qu5Fd",
        "colab": {
          "base_uri": "https://localhost:8080/"
        },
        "outputId": "a3331f9f-6b76-4298-db3c-595b34b7b8ee"
      },
      "execution_count": null,
      "outputs": [
        {
          "output_type": "stream",
          "name": "stdout",
          "text": [
            "   Unnamed: 0           artist_name            track_name  release_date genre  \\\n",
            "0           0                mukesh  mohabbat bhi jhoothi          1950   pop   \n",
            "1           4         frankie laine             i believe          1950   pop   \n",
            "2           6           johnnie ray                   cry          1950   pop   \n",
            "3          10           pérez prado              patricia          1950   pop   \n",
            "4          12  giorgos papadopoulos    apopse eida oneiro          1950   pop   \n",
            "\n",
            "                                              lyrics  len    dating  violence  \\\n",
            "0  hold time feel break feel untrue convince spea...   95  0.000598  0.063746   \n",
            "1  believe drop rain fall grow believe darkest ni...   51  0.035537  0.096777   \n",
            "2  sweetheart send letter goodbye secret feel bet...   24  0.002770  0.002770   \n",
            "3  kiss lips want stroll charm mambo chacha merin...   54  0.048249  0.001548   \n",
            "4  till darling till matter know till dream live ...   48  0.001350  0.001350   \n",
            "\n",
            "   world/life  ...   sadness  feelings  danceability  loudness  acousticness  \\\n",
            "0    0.000598  ...  0.380299  0.117175      0.357739  0.454119      0.997992   \n",
            "1    0.443435  ...  0.001284  0.001284      0.331745  0.647540      0.954819   \n",
            "2    0.002770  ...  0.002770  0.225422      0.456298  0.585288      0.840361   \n",
            "3    0.001548  ...  0.225889  0.001548      0.686992  0.744404      0.083935   \n",
            "4    0.417772  ...  0.068800  0.001350      0.291671  0.646489      0.975904   \n",
            "\n",
            "   instrumentalness   valence    energy       topic  age  \n",
            "0          0.901822  0.339448  0.137110     sadness  1.0  \n",
            "1          0.000002  0.325021  0.263240  world/life  1.0  \n",
            "2          0.000000  0.351814  0.139112       music  1.0  \n",
            "3          0.199393  0.775350  0.743736    romantic  1.0  \n",
            "4          0.000246  0.597073  0.394375    romantic  1.0  \n",
            "\n",
            "[5 rows x 31 columns]\n"
          ]
        }
      ]
    },
    {
      "cell_type": "code",
      "source": [
        "#from google.colab import drive\n",
        "#drive.mount('/content/drive')"
      ],
      "metadata": {
        "id": "htuLb-quJ4-5"
      },
      "execution_count": null,
      "outputs": []
    },
    {
      "cell_type": "code",
      "source": [
        "#count rows/song with a certain topic value\n",
        "\n",
        "#Sadness\n",
        "topic_value = 'sadness'\n",
        "count_sadness = (df['topic'] == topic_value).sum()\n",
        "\n",
        "#World/Life\n",
        "topic_value2 = 'world/life'\n",
        "count_world = (df['topic'] == topic_value2).sum()\n",
        "\n",
        "#Music\n",
        "topic_value3 = 'music'\n",
        "count_music = (df['topic'] == topic_value3).sum()\n",
        "\n",
        "#Romantic\n",
        "topic_value4 = 'romantic'\n",
        "count_romantic = (df['topic'] == topic_value4).sum()\n",
        "\n",
        "#Violence\n",
        "topic_value5 = 'violence'\n",
        "count_violence = (df['topic'] == topic_value5).sum()\n",
        "\n",
        "#Obscene\n",
        "topic_value6 = 'obscene'\n",
        "count_obscene = (df['topic'] == topic_value6).sum()\n",
        "\n",
        "#Night/time\n",
        "topic_value7 = 'night/time'\n",
        "count_night = (df['topic'] == topic_value7).sum()\n",
        "\n",
        "#Feelings\n",
        "topic_value8 = 'feelings'\n",
        "count_feelings = (df['topic'] == topic_value8).sum()\n",
        "\n",
        "#Plot data\n",
        "topic_counts = {'sadness': count_sadness, 'world/life': count_world, 'music': count_music, 'romantic': count_romantic\n",
        "                , 'violence': count_violence , 'obscene': count_obscene, 'night/time': count_night, 'feelings': count_feelings}\n",
        "\n",
        "# Plotting the histogram\n",
        "plt.bar(topic_counts.keys(), topic_counts.values(), color='blue')\n",
        "plt.xlabel('Topics')\n",
        "plt.ylabel('Song Counts')\n",
        "plt.title('Number of Songs For Topics')\n",
        "plt.show()\n",
        "\n",
        "\n"
      ],
      "metadata": {
        "colab": {
          "base_uri": "https://localhost:8080/",
          "height": 357
        },
        "id": "C58jqDHRxa2V",
        "outputId": "144c9937-9946-4ffe-9d34-ad8ae991b7f1"
      },
      "execution_count": null,
      "outputs": [
        {
          "output_type": "display_data",
          "data": {
            "text/plain": [
              "<Figure size 750x350 with 1 Axes>"
            ],
            "image/png": "[encoded data removed]"
          },
          "metadata": {}
        }
      ]
    }
  ]
}