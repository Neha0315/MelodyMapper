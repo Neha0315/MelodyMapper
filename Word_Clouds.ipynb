{
  "nbformat": 4,
  "nbformat_minor": 0,
  "metadata": {
    "colab": {
      "provenance": []
    },
    "kernelspec": {
      "name": "python3",
      "display_name": "Python 3"
    },
    "language_info": {
      "name": "python"
    }
  },
  "cells": [
    {
      "cell_type": "code",
      "execution_count": null,
      "metadata": {
        "id": "mRjH0hN33Vhb"
      },
      "outputs": [],
      "source": [
        "import pandas as pd\n",
        "from wordcloud import WordCloud\n",
        "import matplotlib.pyplot as plt\n"
      ]
    },
    {
      "cell_type": "code",
      "source": [
        "df = pd.read_csv('/content/tcc_ceds_music.csv')\n",
        "df"
      ],
      "metadata": {
        "id": "SgP1W_et3rd7"
      },
      "execution_count": null,
      "outputs": []
    },
    {
      "cell_type": "code",
      "source": [
        "def word_cloud(one_topic):\n",
        "    lyrics_text = ' '.join(df[df['topic'] == one_topic]['lyrics'].str.split().explode().unique())\n",
        "    wordcloud = WordCloud(width=800, height=400, background_color=\"white\").generate(lyrics_text)\n",
        "\n",
        "    plt.figure(figsize=(10, 5))\n",
        "    plt.imshow(wordcloud)\n",
        "    plt.axis(\"off\")\n",
        "    plt.title(f\"{one_topic.capitalize()} Topic Word Cloud\")\n",
        "\n",
        "all_topics = df['topic'].unique()\n",
        "for one_topic in all_topics:\n",
        "    word_cloud(one_topic)"
      ],
      "metadata": {
        "id": "jz063n4U3wn5"
      },
      "execution_count": null,
      "outputs": []
    }
  ]
}